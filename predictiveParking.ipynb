{
 "cells": [
  {
   "cell_type": "markdown",
   "metadata": {},
   "source": [
    "# Machine Learning on Parking Space Occupancy in Dresden\n",
    "\n",
    "Can we predict the occupation of a parking space ([Centrum-Galerie](https://www.bing.com/maps/default.aspx?q=centrum+galerie+dresden&mkt=de&FORM=HDRSC4)) in Dresden?\n",
    "\n",
    "Read about it here: http://mechlab-engineering.de/2015/03/vorhersage-der-parkhausbelegung-mit-offenen-daten/"
   ]
  },
  {
   "cell_type": "code",
   "execution_count": 1,
   "metadata": {
    "collapsed": false
   },
   "outputs": [],
   "source": [
    "import pandas as pd\n",
    "import numpy as np\n",
    "import time\n",
    "\n",
    "%matplotlib inline\n",
    "import matplotlib.pyplot as plt\n",
    "import matplotlib.dates as dates\n",
    "\n",
    "import seaborn as sns\n",
    "sns.set_style('whitegrid')\n",
    "sns.set_context('talk')\n",
    "\n",
    "pd.options.mode.chained_assignment = None  # default='warn'"
   ]
  },
  {
   "cell_type": "markdown",
   "metadata": {},
   "source": [
    "[Here is a map for the parking spaces in Dresden](http://ubahn.draco.uberspace.de/opendata/ui/) and the guys from the Open Knowledge Foundation Dresden (Offenes Dresden) stored the data in a DB and provide a dump of the data.\n",
    "\n",
    "You can download it:\n",
    "\n",
    "`http://ubahn.draco.uberspace.de/opendata/dump/parken_dump.csv`\n"
   ]
  },
  {
   "cell_type": "code",
   "execution_count": 2,
   "metadata": {
    "collapsed": false
   },
   "outputs": [],
   "source": [
    "#!rm -rf parken_dump.csv\n",
    "#!wget http://ubahn.draco.uberspace.de/opendata/dump/parken_dump.csv"
   ]
  },
  {
   "cell_type": "markdown",
   "metadata": {},
   "source": [
    "### Read the data and process it"
   ]
  },
  {
   "cell_type": "code",
   "execution_count": 3,
   "metadata": {
    "collapsed": true
   },
   "outputs": [],
   "source": [
    "data = pd.read_csv('parken_dump.csv', encoding='latin1')"
   ]
  },
  {
   "cell_type": "markdown",
   "metadata": {},
   "source": [
    "Calc the occupation ([ger] Belegung)"
   ]
  },
  {
   "cell_type": "code",
   "execution_count": 4,
   "metadata": {
    "collapsed": true
   },
   "outputs": [],
   "source": [
    "data['Belegung'] = 100.0-data['free']/data['count']*100.0"
   ]
  },
  {
   "cell_type": "markdown",
   "metadata": {},
   "source": [
    "Pivot the data"
   ]
  },
  {
   "cell_type": "code",
   "execution_count": 5,
   "metadata": {
    "collapsed": true
   },
   "outputs": [],
   "source": [
    "ppDD = data.pivot(index='time', columns='name', values='Belegung')"
   ]
  },
  {
   "cell_type": "code",
   "execution_count": 6,
   "metadata": {
    "collapsed": false
   },
   "outputs": [
    {
     "name": "stdout",
     "output_type": "stream",
     "text": [
      "Daten von 4/2014 bis 5/2015\n"
     ]
    }
   ],
   "source": [
    "# Define index and names\n",
    "ppDD.index = pd.DatetimeIndex(ppDD.index)\n",
    "ppDD.index.name = 'Zeit'\n",
    "ppDD.columns.name = 'Parkplatz'\n",
    "\n",
    "print('Daten von %s/%s bis %s/%s' % (ppDD.index[0].month, ppDD.index[0].year, ppDD.index[-1].month, ppDD.index[-1].year)) "
   ]
  },
  {
   "cell_type": "markdown",
   "metadata": {},
   "source": [
    "### Wir nehmen nur von 04/2014 - 04/2015"
   ]
  },
  {
   "cell_type": "code",
   "execution_count": 7,
   "metadata": {
    "collapsed": false
   },
   "outputs": [],
   "source": [
    "# Wir nehmen nur ein gesamtes Jahr\n",
    "ppDD = ppDD['2014-04-14':'2015-04-13']"
   ]
  },
  {
   "cell_type": "code",
   "execution_count": 8,
   "metadata": {
    "collapsed": true
   },
   "outputs": [],
   "source": [
    "# format the percent without digits\n",
    "ppDD = ppDD.applymap(lambda x: float('%.0f' % x))\n",
    "\n",
    "# and limit it between 0...100%\n",
    "ppDD = ppDD.applymap(lambda x: min(max(x, 0.0), 100.0))"
   ]
  },
  {
   "cell_type": "code",
   "execution_count": 9,
   "metadata": {
    "collapsed": false
   },
   "outputs": [
    {
     "data": {
      "text/html": [
       "<div>\n",
       "<table border=\"1\" class=\"dataframe\">\n",
       "  <thead>\n",
       "    <tr style=\"text-align: right;\">\n",
       "      <th>Parkplatz</th>\n",
       "      <th>Altmarkt</th>\n",
       "      <th>Altmarkt - Galerie</th>\n",
       "      <th>An der Frauenkirche</th>\n",
       "      <th>Bühlau</th>\n",
       "      <th>Centrum-Galerie</th>\n",
       "      <th>City  Center</th>\n",
       "      <th>Cossebaude</th>\n",
       "      <th>Ferdinandplatz</th>\n",
       "      <th>Flutrinne</th>\n",
       "      <th>Frauenkirche Neumarkt</th>\n",
       "      <th>...</th>\n",
       "      <th>Schießgasse</th>\n",
       "      <th>Semperoper</th>\n",
       "      <th>Taschenbergpalais</th>\n",
       "      <th>Terrassenufer</th>\n",
       "      <th>Terrassenufer Bus</th>\n",
       "      <th>Theresienstraße</th>\n",
       "      <th>Wiener Platz/Hbf.</th>\n",
       "      <th>Wiesentorstraße</th>\n",
       "      <th>World Trade Center</th>\n",
       "      <th>Wöhrl - Florentinum</th>\n",
       "    </tr>\n",
       "    <tr>\n",
       "      <th>Zeit</th>\n",
       "      <th></th>\n",
       "      <th></th>\n",
       "      <th></th>\n",
       "      <th></th>\n",
       "      <th></th>\n",
       "      <th></th>\n",
       "      <th></th>\n",
       "      <th></th>\n",
       "      <th></th>\n",
       "      <th></th>\n",
       "      <th></th>\n",
       "      <th></th>\n",
       "      <th></th>\n",
       "      <th></th>\n",
       "      <th></th>\n",
       "      <th></th>\n",
       "      <th></th>\n",
       "      <th></th>\n",
       "      <th></th>\n",
       "      <th></th>\n",
       "      <th></th>\n",
       "    </tr>\n",
       "  </thead>\n",
       "  <tbody>\n",
       "    <tr>\n",
       "      <th>2015-04-13 23:15:06</th>\n",
       "      <td>8</td>\n",
       "      <td>NaN</td>\n",
       "      <td>7</td>\n",
       "      <td>0</td>\n",
       "      <td>11</td>\n",
       "      <td>54</td>\n",
       "      <td>5</td>\n",
       "      <td>1</td>\n",
       "      <td>NaN</td>\n",
       "      <td>4</td>\n",
       "      <td>...</td>\n",
       "      <td>NaN</td>\n",
       "      <td>17</td>\n",
       "      <td>23</td>\n",
       "      <td>20</td>\n",
       "      <td>27</td>\n",
       "      <td>14</td>\n",
       "      <td>43</td>\n",
       "      <td>17</td>\n",
       "      <td>9</td>\n",
       "      <td>11</td>\n",
       "    </tr>\n",
       "    <tr>\n",
       "      <th>2015-04-13 23:30:07</th>\n",
       "      <td>7</td>\n",
       "      <td>NaN</td>\n",
       "      <td>6</td>\n",
       "      <td>0</td>\n",
       "      <td>11</td>\n",
       "      <td>54</td>\n",
       "      <td>5</td>\n",
       "      <td>1</td>\n",
       "      <td>NaN</td>\n",
       "      <td>4</td>\n",
       "      <td>...</td>\n",
       "      <td>NaN</td>\n",
       "      <td>16</td>\n",
       "      <td>23</td>\n",
       "      <td>20</td>\n",
       "      <td>27</td>\n",
       "      <td>14</td>\n",
       "      <td>43</td>\n",
       "      <td>17</td>\n",
       "      <td>9</td>\n",
       "      <td>11</td>\n",
       "    </tr>\n",
       "    <tr>\n",
       "      <th>2015-04-13 23:45:06</th>\n",
       "      <td>6</td>\n",
       "      <td>NaN</td>\n",
       "      <td>6</td>\n",
       "      <td>0</td>\n",
       "      <td>11</td>\n",
       "      <td>54</td>\n",
       "      <td>5</td>\n",
       "      <td>1</td>\n",
       "      <td>NaN</td>\n",
       "      <td>4</td>\n",
       "      <td>...</td>\n",
       "      <td>NaN</td>\n",
       "      <td>16</td>\n",
       "      <td>22</td>\n",
       "      <td>20</td>\n",
       "      <td>27</td>\n",
       "      <td>14</td>\n",
       "      <td>43</td>\n",
       "      <td>17</td>\n",
       "      <td>9</td>\n",
       "      <td>11</td>\n",
       "    </tr>\n",
       "  </tbody>\n",
       "</table>\n",
       "<p>3 rows × 33 columns</p>\n",
       "</div>"
      ],
      "text/plain": [
       "Parkplatz            Altmarkt  Altmarkt - Galerie  An der Frauenkirche  \\\n",
       "Zeit                                                                     \n",
       "2015-04-13 23:15:06         8                 NaN                    7   \n",
       "2015-04-13 23:30:07         7                 NaN                    6   \n",
       "2015-04-13 23:45:06         6                 NaN                    6   \n",
       "\n",
       "Parkplatz            Bühlau  Centrum-Galerie  City  Center  Cossebaude  \\\n",
       "Zeit                                                                     \n",
       "2015-04-13 23:15:06       0               11            54           5   \n",
       "2015-04-13 23:30:07       0               11            54           5   \n",
       "2015-04-13 23:45:06       0               11            54           5   \n",
       "\n",
       "Parkplatz            Ferdinandplatz  Flutrinne  Frauenkirche Neumarkt  \\\n",
       "Zeit                                                                    \n",
       "2015-04-13 23:15:06               1        NaN                      4   \n",
       "2015-04-13 23:30:07               1        NaN                      4   \n",
       "2015-04-13 23:45:06               1        NaN                      4   \n",
       "\n",
       "Parkplatz                   ...           Schießgasse  Semperoper  \\\n",
       "Zeit                        ...                                     \n",
       "2015-04-13 23:15:06         ...                   NaN          17   \n",
       "2015-04-13 23:30:07         ...                   NaN          16   \n",
       "2015-04-13 23:45:06         ...                   NaN          16   \n",
       "\n",
       "Parkplatz            Taschenbergpalais  Terrassenufer  Terrassenufer Bus  \\\n",
       "Zeit                                                                       \n",
       "2015-04-13 23:15:06                 23             20                 27   \n",
       "2015-04-13 23:30:07                 23             20                 27   \n",
       "2015-04-13 23:45:06                 22             20                 27   \n",
       "\n",
       "Parkplatz            Theresienstraße  Wiener Platz/Hbf.  Wiesentorstraße  \\\n",
       "Zeit                                                                       \n",
       "2015-04-13 23:15:06               14                 43               17   \n",
       "2015-04-13 23:30:07               14                 43               17   \n",
       "2015-04-13 23:45:06               14                 43               17   \n",
       "\n",
       "Parkplatz            World Trade Center  Wöhrl - Florentinum  \n",
       "Zeit                                                          \n",
       "2015-04-13 23:15:06                   9                   11  \n",
       "2015-04-13 23:30:07                   9                   11  \n",
       "2015-04-13 23:45:06                   9                   11  \n",
       "\n",
       "[3 rows x 33 columns]"
      ]
     },
     "execution_count": 9,
     "metadata": {},
     "output_type": "execute_result"
    }
   ],
   "source": [
    "ppDD.tail(3)"
   ]
  },
  {
   "cell_type": "markdown",
   "metadata": {},
   "source": [
    "# Predict for the `parkingspot`"
   ]
  },
  {
   "cell_type": "code",
   "execution_count": 372,
   "metadata": {
    "collapsed": true
   },
   "outputs": [],
   "source": [
    "parkingspot = u'Centrum-Galerie'"
   ]
  },
  {
   "cell_type": "code",
   "execution_count": 373,
   "metadata": {
    "collapsed": false
   },
   "outputs": [],
   "source": [
    "centrumGalerie = ppDD[[parkingspot]].dropna()"
   ]
  },
  {
   "cell_type": "markdown",
   "metadata": {},
   "source": [
    "Ok, take a look at the TimeSeries"
   ]
  },
  {
   "cell_type": "code",
   "execution_count": 374,
   "metadata": {
    "collapsed": false
   },
   "outputs": [],
   "source": [
    "# function to plot timeseries with weekend\n",
    "def plotbelegung(df, which, fromdate, todate):\n",
    "    if fromdate=='':\n",
    "        fromdate=df.index[0]\n",
    "    if todate=='':\n",
    "        todate=df.index[-1]\n",
    "\n",
    "    weekend = df[fromdate:todate].index[df[fromdate:todate].index.weekday>4]\n",
    "    ax = df[fromdate:todate][which].plot(figsize=(9,6), ylim=(0, 130), alpha=0.9, rot=0, title='Auslastung Parkplatz \\'%s\\' Dresden %s bis %s' % (which, fromdate, todate))\n",
    "    \n",
    "    if not df.index.freqstr: # Wenn DataFrame keine Frequenz hat\n",
    "        ax.xaxis.set_minor_locator(dates.WeekdayLocator(byweekday=(0,1,2,3,4,5,6),interval=2))\n",
    "        ax.xaxis.set_major_locator(dates.WeekdayLocator(byweekday=(0),interval=1))\n",
    "        ax.xaxis.set_minor_formatter(dates.DateFormatter('%d.'))\n",
    "        ax.xaxis.set_major_formatter(dates.DateFormatter('\\nSa/So'))\n",
    "        ax.xaxis.grid(True, which=\"minor\")\n",
    "        ax.xaxis.grid(False, which=\"major\")\n",
    "    \n",
    "    plt.ylabel('%')\n",
    "    \n",
    "    for w in weekend[::10]:\n",
    "        plt.axvline(w, c='k', alpha=0.08, zorder=-1)\n",
    "        \n",
    "    return plt"
   ]
  },
  {
   "cell_type": "code",
   "execution_count": 375,
   "metadata": {
    "collapsed": false
   },
   "outputs": [
    {
     "data": {
      "text/plain": [
       "<module 'matplotlib.pyplot' from '/Users/paul/anaconda/lib/python2.7/site-packages/matplotlib/pyplot.pyc'>"
      ]
     },
     "execution_count": 375,
     "metadata": {},
     "output_type": "execute_result"
    },
    {
     "data": {
      "image/png": "[encoded data removed]",
      "text/plain": [
       "<matplotlib.figure.Figure at 0x10fecaf90>"
      ]
     },
     "metadata": {},
     "output_type": "display_data"
    }
   ],
   "source": [
    "plotbelegung(centrumGalerie, parkingspot, '2014-12', '2014-12')"
   ]
  },
  {
   "cell_type": "markdown",
   "metadata": {},
   "source": [
    "# Let's do some Machine Learning on that"
   ]
  },
  {
   "cell_type": "markdown",
   "metadata": {},
   "source": [
    "## Labels\n",
    "\n",
    "Label ist die Belegung des Parkhauses"
   ]
  },
  {
   "cell_type": "code",
   "execution_count": 376,
   "metadata": {
    "collapsed": false
   },
   "outputs": [],
   "source": [
    "centrumGalerie['Belegung'] = centrumGalerie[parkingspot]#.apply(lambda x: round(x/10.0)*10.0)"
   ]
  },
  {
   "cell_type": "markdown",
   "metadata": {},
   "source": [
    "## Features\n",
    "\n",
    "* Uhrzeit\n",
    "* Wochentag\n",
    "* Monat\n",
    "* Verkaufsoffener Sonntag?\n",
    "* nächster Tag Feiertag? (Deutschland)\n",
    "* übernächster Tag auch noch Feiertag? (Deutschland)\n",
    "* Ferien (Deutschland)\n",
    "* spezielles Event in Galerien oder Stadt oder Kultur\n",
    "* nächster Tag Feiertag? (Tschechien)\n",
    "* übernächster Tag auch noch Feiertag? (Tschechien)\n",
    "* Ferien (Tschechien)\n",
    "* Wetter\n",
    "\n",
    "Wir haben nicht alle Features. Aber wenigstens die wichtigsten."
   ]
  },
  {
   "cell_type": "markdown",
   "metadata": {},
   "source": [
    "### Wochentag\n",
    "\n",
    "Es ist wichtig, ob Montag oder Samstag oder Sonntag ist."
   ]
  },
  {
   "cell_type": "code",
   "execution_count": 377,
   "metadata": {
    "collapsed": false
   },
   "outputs": [],
   "source": [
    "centrumGalerie['Wochentag'] = centrumGalerie.index.dayofweek"
   ]
  },
  {
   "cell_type": "markdown",
   "metadata": {},
   "source": [
    "### Uhrzeit\n",
    "\n",
    "Dann ist es natürlich extrem wichtig, ob es in der Nacht ist oder tagsüber."
   ]
  },
  {
   "cell_type": "code",
   "execution_count": 378,
   "metadata": {
    "collapsed": false
   },
   "outputs": [],
   "source": [
    "centrumGalerie['Uhrzeit'] = centrumGalerie.index.hour*60.0 + centrumGalerie.index.minute"
   ]
  },
  {
   "cell_type": "markdown",
   "metadata": {},
   "source": [
    "### Verkaufsoffener Sonntag\n",
    "\n",
    "Waren in Dresden: 13. April 2014, 5. Oktober 2014, 7. Dezember 2014, 21. Dezember 2014"
   ]
  },
  {
   "cell_type": "code",
   "execution_count": 379,
   "metadata": {
    "collapsed": false
   },
   "outputs": [],
   "source": [
    "offeneSonntage = pd.to_datetime(['2014-04-13','2014-10-05','2014-12-07','2014-12-21'])"
   ]
  },
  {
   "cell_type": "code",
   "execution_count": 380,
   "metadata": {
    "collapsed": true
   },
   "outputs": [],
   "source": [
    "def isoffenersonntag(serie):\n",
    "    isoffen = False\n",
    "    for offene in offeneSonntage:\n",
    "        if serie.date() == offene.date():\n",
    "            isoffen=True\n",
    "\n",
    "    if isoffen:\n",
    "        return 1\n",
    "    else:\n",
    "        return 0"
   ]
  },
  {
   "cell_type": "code",
   "execution_count": 381,
   "metadata": {
    "collapsed": false
   },
   "outputs": [],
   "source": [
    "sonntagsseries = pd.Series(centrumGalerie.index, name='offeneSonntage', index=centrumGalerie.index).apply(isoffenersonntag)\n",
    "centrumGalerie['offenerSonntag'] = sonntagsseries"
   ]
  },
  {
   "cell_type": "code",
   "execution_count": 382,
   "metadata": {
    "collapsed": false
   },
   "outputs": [
    {
     "data": {
      "text/html": [
       "<div>\n",
       "<table border=\"1\" class=\"dataframe\">\n",
       "  <thead>\n",
       "    <tr style=\"text-align: right;\">\n",
       "      <th>Parkplatz</th>\n",
       "      <th>Centrum-Galerie</th>\n",
       "      <th>Belegung</th>\n",
       "      <th>Wochentag</th>\n",
       "      <th>Uhrzeit</th>\n",
       "      <th>offenerSonntag</th>\n",
       "    </tr>\n",
       "    <tr>\n",
       "      <th>Zeit</th>\n",
       "      <th></th>\n",
       "      <th></th>\n",
       "      <th></th>\n",
       "      <th></th>\n",
       "      <th></th>\n",
       "    </tr>\n",
       "  </thead>\n",
       "  <tbody>\n",
       "    <tr>\n",
       "      <th>2014-10-05 00:00:05</th>\n",
       "      <td>16</td>\n",
       "      <td>16</td>\n",
       "      <td>6</td>\n",
       "      <td>0</td>\n",
       "      <td>1</td>\n",
       "    </tr>\n",
       "    <tr>\n",
       "      <th>2014-10-05 00:15:06</th>\n",
       "      <td>15</td>\n",
       "      <td>15</td>\n",
       "      <td>6</td>\n",
       "      <td>15</td>\n",
       "      <td>1</td>\n",
       "    </tr>\n",
       "    <tr>\n",
       "      <th>2014-10-05 00:30:05</th>\n",
       "      <td>15</td>\n",
       "      <td>15</td>\n",
       "      <td>6</td>\n",
       "      <td>30</td>\n",
       "      <td>1</td>\n",
       "    </tr>\n",
       "    <tr>\n",
       "      <th>2014-10-05 00:45:04</th>\n",
       "      <td>15</td>\n",
       "      <td>15</td>\n",
       "      <td>6</td>\n",
       "      <td>45</td>\n",
       "      <td>1</td>\n",
       "    </tr>\n",
       "    <tr>\n",
       "      <th>2014-10-05 01:00:05</th>\n",
       "      <td>15</td>\n",
       "      <td>15</td>\n",
       "      <td>6</td>\n",
       "      <td>60</td>\n",
       "      <td>1</td>\n",
       "    </tr>\n",
       "  </tbody>\n",
       "</table>\n",
       "</div>"
      ],
      "text/plain": [
       "Parkplatz            Centrum-Galerie  Belegung  Wochentag  Uhrzeit  \\\n",
       "Zeit                                                                 \n",
       "2014-10-05 00:00:05               16        16          6        0   \n",
       "2014-10-05 00:15:06               15        15          6       15   \n",
       "2014-10-05 00:30:05               15        15          6       30   \n",
       "2014-10-05 00:45:04               15        15          6       45   \n",
       "2014-10-05 01:00:05               15        15          6       60   \n",
       "\n",
       "Parkplatz            offenerSonntag  \n",
       "Zeit                                 \n",
       "2014-10-05 00:00:05               1  \n",
       "2014-10-05 00:15:06               1  \n",
       "2014-10-05 00:30:05               1  \n",
       "2014-10-05 00:45:04               1  \n",
       "2014-10-05 01:00:05               1  "
      ]
     },
     "execution_count": 382,
     "metadata": {},
     "output_type": "execute_result"
    }
   ],
   "source": [
    "centrumGalerie[centrumGalerie.offenerSonntag==1].head(5)"
   ]
  },
  {
   "cell_type": "markdown",
   "metadata": {},
   "source": [
    "### Feiertage\n",
    "\n",
    "Wenn ein Feiertag naht, dann gehen auch mehr Leute in die Stadt. Genauso nach einem Feiertag. Deshalb ist das ein Feature.\n",
    "\n",
    "Get them from http://www.feiertage.net"
   ]
  },
  {
   "cell_type": "code",
   "execution_count": 383,
   "metadata": {
    "collapsed": false
   },
   "outputs": [],
   "source": [
    "feiertage = pd.read_csv('Sachsen2014.csv', index_col=0, parse_dates=True, sep=';', dayfirst=True)\n",
    "feiertage = feiertage.append(pd.read_csv('Sachsen2015.csv', index_col=0, parse_dates=True, sep=';', dayfirst=True))\n",
    "feiertage = feiertage.append(pd.read_csv('Sachsen2016.csv', index_col=0, parse_dates=True, sep=';', dayfirst=True))"
   ]
  },
  {
   "cell_type": "code",
   "execution_count": 384,
   "metadata": {
    "collapsed": false
   },
   "outputs": [
    {
     "data": {
      "text/html": [
       "<div>\n",
       "<table border=\"1\" class=\"dataframe\">\n",
       "  <thead>\n",
       "    <tr style=\"text-align: right;\">\n",
       "      <th></th>\n",
       "      <th>Feiertage</th>\n",
       "      <th>Bundesland</th>\n",
       "    </tr>\n",
       "    <tr>\n",
       "      <th>Tag</th>\n",
       "      <th></th>\n",
       "      <th></th>\n",
       "    </tr>\n",
       "  </thead>\n",
       "  <tbody>\n",
       "    <tr>\n",
       "      <th>2014-01-01</th>\n",
       "      <td>Neujahr</td>\n",
       "      <td>Sachsen</td>\n",
       "    </tr>\n",
       "    <tr>\n",
       "      <th>2014-04-18</th>\n",
       "      <td>Karfreitag</td>\n",
       "      <td>Sachsen</td>\n",
       "    </tr>\n",
       "    <tr>\n",
       "      <th>2014-04-21</th>\n",
       "      <td>Ostermontag</td>\n",
       "      <td>Sachsen</td>\n",
       "    </tr>\n",
       "    <tr>\n",
       "      <th>2014-05-01</th>\n",
       "      <td>Maifeiertag</td>\n",
       "      <td>Sachsen</td>\n",
       "    </tr>\n",
       "    <tr>\n",
       "      <th>2014-05-29</th>\n",
       "      <td>Christi Himmelfahrt</td>\n",
       "      <td>Sachsen</td>\n",
       "    </tr>\n",
       "    <tr>\n",
       "      <th>2014-06-09</th>\n",
       "      <td>Pfingstmontag</td>\n",
       "      <td>Sachsen</td>\n",
       "    </tr>\n",
       "    <tr>\n",
       "      <th>2014-06-19</th>\n",
       "      <td>Fronleichnam</td>\n",
       "      <td>Sachsen</td>\n",
       "    </tr>\n",
       "    <tr>\n",
       "      <th>2014-10-03</th>\n",
       "      <td>Tag der Deutschen Einheit</td>\n",
       "      <td>Sachsen</td>\n",
       "    </tr>\n",
       "    <tr>\n",
       "      <th>2014-10-31</th>\n",
       "      <td>Reformationstag</td>\n",
       "      <td>Sachsen</td>\n",
       "    </tr>\n",
       "    <tr>\n",
       "      <th>2014-11-19</th>\n",
       "      <td>Buß- und Bettag</td>\n",
       "      <td>Sachsen</td>\n",
       "    </tr>\n",
       "    <tr>\n",
       "      <th>2014-12-25</th>\n",
       "      <td>1. Weihnachtstag</td>\n",
       "      <td>Sachsen</td>\n",
       "    </tr>\n",
       "    <tr>\n",
       "      <th>2014-12-26</th>\n",
       "      <td>2. Weihnachtstag</td>\n",
       "      <td>Sachsen</td>\n",
       "    </tr>\n",
       "    <tr>\n",
       "      <th>2015-01-01</th>\n",
       "      <td>Neujahr</td>\n",
       "      <td>Sachsen</td>\n",
       "    </tr>\n",
       "    <tr>\n",
       "      <th>2015-04-03</th>\n",
       "      <td>Karfreitag</td>\n",
       "      <td>Sachsen</td>\n",
       "    </tr>\n",
       "    <tr>\n",
       "      <th>2015-04-06</th>\n",
       "      <td>Ostermontag</td>\n",
       "      <td>Sachsen</td>\n",
       "    </tr>\n",
       "    <tr>\n",
       "      <th>2015-05-01</th>\n",
       "      <td>Maifeiertag</td>\n",
       "      <td>Sachsen</td>\n",
       "    </tr>\n",
       "    <tr>\n",
       "      <th>2015-05-14</th>\n",
       "      <td>Christi Himmelfahrt</td>\n",
       "      <td>Sachsen</td>\n",
       "    </tr>\n",
       "    <tr>\n",
       "      <th>2015-05-25</th>\n",
       "      <td>Pfingstmontag</td>\n",
       "      <td>Sachsen</td>\n",
       "    </tr>\n",
       "    <tr>\n",
       "      <th>2015-06-04</th>\n",
       "      <td>Fronleichnam</td>\n",
       "      <td>Sachsen</td>\n",
       "    </tr>\n",
       "    <tr>\n",
       "      <th>2015-10-03</th>\n",
       "      <td>Tag der Deutschen Einheit</td>\n",
       "      <td>Sachsen</td>\n",
       "    </tr>\n",
       "    <tr>\n",
       "      <th>2015-10-31</th>\n",
       "      <td>Reformationstag</td>\n",
       "      <td>Sachsen</td>\n",
       "    </tr>\n",
       "    <tr>\n",
       "      <th>2015-11-18</th>\n",
       "      <td>Buß- und Bettag</td>\n",
       "      <td>Sachsen</td>\n",
       "    </tr>\n",
       "    <tr>\n",
       "      <th>2015-12-25</th>\n",
       "      <td>1. Weihnachtstag</td>\n",
       "      <td>Sachsen</td>\n",
       "    </tr>\n",
       "    <tr>\n",
       "      <th>2015-12-26</th>\n",
       "      <td>2. Weihnachtstag</td>\n",
       "      <td>Sachsen</td>\n",
       "    </tr>\n",
       "    <tr>\n",
       "      <th>2016-01-01</th>\n",
       "      <td>Neujahr</td>\n",
       "      <td>Sachsen</td>\n",
       "    </tr>\n",
       "    <tr>\n",
       "      <th>2016-03-25</th>\n",
       "      <td>Karfreitag</td>\n",
       "      <td>Sachsen</td>\n",
       "    </tr>\n",
       "    <tr>\n",
       "      <th>2016-03-28</th>\n",
       "      <td>Ostermontag</td>\n",
       "      <td>Sachsen</td>\n",
       "    </tr>\n",
       "    <tr>\n",
       "      <th>2016-05-01</th>\n",
       "      <td>Maifeiertag</td>\n",
       "      <td>Sachsen</td>\n",
       "    </tr>\n",
       "    <tr>\n",
       "      <th>2016-05-05</th>\n",
       "      <td>Christi Himmelfahrt</td>\n",
       "      <td>Sachsen</td>\n",
       "    </tr>\n",
       "    <tr>\n",
       "      <th>2016-05-16</th>\n",
       "      <td>Pfingstmontag</td>\n",
       "      <td>Sachsen</td>\n",
       "    </tr>\n",
       "    <tr>\n",
       "      <th>2016-05-26</th>\n",
       "      <td>Fronleichnam</td>\n",
       "      <td>Sachsen</td>\n",
       "    </tr>\n",
       "    <tr>\n",
       "      <th>2016-10-03</th>\n",
       "      <td>Tag der Deutschen Einheit</td>\n",
       "      <td>Sachsen</td>\n",
       "    </tr>\n",
       "    <tr>\n",
       "      <th>2016-10-31</th>\n",
       "      <td>Reformationstag</td>\n",
       "      <td>Sachsen</td>\n",
       "    </tr>\n",
       "    <tr>\n",
       "      <th>2016-11-16</th>\n",
       "      <td>Buß- und Bettag</td>\n",
       "      <td>Sachsen</td>\n",
       "    </tr>\n",
       "    <tr>\n",
       "      <th>2016-12-25</th>\n",
       "      <td>1. Weihnachtstag</td>\n",
       "      <td>Sachsen</td>\n",
       "    </tr>\n",
       "    <tr>\n",
       "      <th>2016-12-26</th>\n",
       "      <td>2. Weihnachtstag</td>\n",
       "      <td>Sachsen</td>\n",
       "    </tr>\n",
       "  </tbody>\n",
       "</table>\n",
       "</div>"
      ],
      "text/plain": [
       "                             Feiertage  Bundesland\n",
       "Tag                                               \n",
       "2014-01-01                     Neujahr     Sachsen\n",
       "2014-04-18                  Karfreitag     Sachsen\n",
       "2014-04-21                 Ostermontag     Sachsen\n",
       "2014-05-01                 Maifeiertag     Sachsen\n",
       "2014-05-29         Christi Himmelfahrt     Sachsen\n",
       "2014-06-09               Pfingstmontag     Sachsen\n",
       "2014-06-19                Fronleichnam     Sachsen\n",
       "2014-10-03   Tag der Deutschen Einheit     Sachsen\n",
       "2014-10-31             Reformationstag     Sachsen\n",
       "2014-11-19             Buß- und Bettag     Sachsen\n",
       "2014-12-25            1. Weihnachtstag     Sachsen\n",
       "2014-12-26            2. Weihnachtstag     Sachsen\n",
       "2015-01-01                     Neujahr     Sachsen\n",
       "2015-04-03                  Karfreitag     Sachsen\n",
       "2015-04-06                 Ostermontag     Sachsen\n",
       "2015-05-01                 Maifeiertag     Sachsen\n",
       "2015-05-14         Christi Himmelfahrt     Sachsen\n",
       "2015-05-25               Pfingstmontag     Sachsen\n",
       "2015-06-04                Fronleichnam     Sachsen\n",
       "2015-10-03   Tag der Deutschen Einheit     Sachsen\n",
       "2015-10-31             Reformationstag     Sachsen\n",
       "2015-11-18             Buß- und Bettag     Sachsen\n",
       "2015-12-25            1. Weihnachtstag     Sachsen\n",
       "2015-12-26            2. Weihnachtstag     Sachsen\n",
       "2016-01-01                     Neujahr     Sachsen\n",
       "2016-03-25                  Karfreitag     Sachsen\n",
       "2016-03-28                 Ostermontag     Sachsen\n",
       "2016-05-01                 Maifeiertag     Sachsen\n",
       "2016-05-05         Christi Himmelfahrt     Sachsen\n",
       "2016-05-16               Pfingstmontag     Sachsen\n",
       "2016-05-26                Fronleichnam     Sachsen\n",
       "2016-10-03   Tag der Deutschen Einheit     Sachsen\n",
       "2016-10-31             Reformationstag     Sachsen\n",
       "2016-11-16             Buß- und Bettag     Sachsen\n",
       "2016-12-25            1. Weihnachtstag     Sachsen\n",
       "2016-12-26            2. Weihnachtstag     Sachsen"
      ]
     },
     "execution_count": 384,
     "metadata": {},
     "output_type": "execute_result"
    }
   ],
   "source": [
    "feiertage"
   ]
  },
  {
   "cell_type": "markdown",
   "metadata": {},
   "source": [
    "Mit [numpy.busday_count](http://docs.scipy.org/doc/numpy/reference/generated/numpy.busday_count.html) bekommen wir die Anzahl der Werktage bis zum nächsten Feiertag, weil die Leute ja vor einem langen Wochenende immer noch mal richtig einkaufen gehen."
   ]
  },
  {
   "cell_type": "code",
   "execution_count": 385,
   "metadata": {
    "collapsed": false
   },
   "outputs": [],
   "source": [
    "def shoppingdaystonextfeiertag(df):\n",
    "    diffs = []\n",
    "    for feiertag in feiertage.index:\n",
    "        diff = np.busday_count(df.date(), feiertag.date(), weekmask='Mon Tue Wed Thu Fri Sat')\n",
    "        #print('%s bis %s: %i Arbeitstage' % (feiertag, df, diff)) \n",
    "        diffs.append(diff)\n",
    "        \n",
    "    try:\n",
    "        return min([d for d in diffs if d>=0])\n",
    "    except:\n",
    "        return 100 # wenn kein Feiertag gefunden"
   ]
  },
  {
   "cell_type": "code",
   "execution_count": 386,
   "metadata": {
    "collapsed": false
   },
   "outputs": [],
   "source": [
    "feiertagseries = pd.Series(centrumGalerie.index, name='Feiertage', index=centrumGalerie.index).apply(shoppingdaystonextfeiertag)\n",
    "centrumGalerie['bisFeiertag'] = feiertagseries"
   ]
  },
  {
   "cell_type": "code",
   "execution_count": 387,
   "metadata": {
    "collapsed": true
   },
   "outputs": [],
   "source": [
    "def shoppingdaysafterfeiertag(df):\n",
    "    diffs = []\n",
    "    for feiertag in feiertage.index:\n",
    "        diff = np.busday_count(feiertag.date(), df.date(), weekmask='Mon Tue Wed Thu Fri Sat')\n",
    "        #print('%s bis %s: %i Arbeitstage' % (feiertag, df, diff)) \n",
    "        diffs.append(diff)\n",
    "        \n",
    "    try:\n",
    "        return min([d for d in diffs if d>=0])\n",
    "    except:\n",
    "        return 100 # wenn kein Feiertag gefunden"
   ]
  },
  {
   "cell_type": "code",
   "execution_count": 388,
   "metadata": {
    "collapsed": true
   },
   "outputs": [],
   "source": [
    "feiertagseries = pd.Series(centrumGalerie.index, name='Feiertage', index=centrumGalerie.index).apply(shoppingdaysafterfeiertag)\n",
    "centrumGalerie['nachFeiertag'] = feiertagseries"
   ]
  },
  {
   "cell_type": "markdown",
   "metadata": {},
   "source": [
    "### Schulferien\n",
    "\n",
    "Schulferien Sachsen: http://www.schulferien.org/Sachsen/sachsen.html"
   ]
  },
  {
   "cell_type": "code",
   "execution_count": 389,
   "metadata": {
    "collapsed": false
   },
   "outputs": [],
   "source": [
    "schulferien = [['2014-02-17','2014-03-01'],\n",
    "                ['2014-04-18','2014-04-26'],\n",
    "                ['2014-07-21','2014-08-29'],\n",
    "                ['2014-10-20','2014-10-31'],\n",
    "                ['2014-12-22','2015-01-03'],\n",
    "                ['2015-02-09','2015-02-21'],\n",
    "                ['2015-04-02','2015-04-11'],\n",
    "                ['2015-07-13','2015-08-21'],\n",
    "                ['2015-10-12','2015-10-24'],\n",
    "                ['2015-12-21','2016-01-02']]"
   ]
  },
  {
   "cell_type": "code",
   "execution_count": 390,
   "metadata": {
    "collapsed": false
   },
   "outputs": [],
   "source": [
    "def isschulferien(series):\n",
    "    now = series.date()\n",
    "    \n",
    "    inferien = False\n",
    "    for ferien in schulferien:\n",
    "        anfang = pd.to_datetime(ferien[0]).date()\n",
    "        ende = pd.to_datetime(ferien[1]).date()\n",
    "\n",
    "        if now >= anfang and now <= ende:\n",
    "            inferien = True\n",
    "\n",
    "    if inferien:\n",
    "        return 1\n",
    "    else:\n",
    "        return 0"
   ]
  },
  {
   "cell_type": "code",
   "execution_count": 391,
   "metadata": {
    "collapsed": false
   },
   "outputs": [],
   "source": [
    "ferienseries = pd.Series(centrumGalerie.index, name='Schulferien', index=centrumGalerie.index).apply(isschulferien)\n",
    "centrumGalerie['Schulferien'] = ferienseries"
   ]
  },
  {
   "cell_type": "markdown",
   "metadata": {},
   "source": [
    "### Weihnachten"
   ]
  },
  {
   "cell_type": "code",
   "execution_count": 392,
   "metadata": {
    "collapsed": true
   },
   "outputs": [],
   "source": [
    "weihnachten = pd.to_datetime(['2014-12-25','2014-12-26','2015-12-25','2015-12-26'])"
   ]
  },
  {
   "cell_type": "code",
   "execution_count": 393,
   "metadata": {
    "collapsed": true
   },
   "outputs": [],
   "source": [
    "def isweihnachten(serie):\n",
    "    isweihnacht = False\n",
    "    for w in weihnachten:\n",
    "        if serie.date() == w.date():\n",
    "            isweihnacht=True\n",
    "\n",
    "    if isweihnacht:\n",
    "        return 1\n",
    "    else:\n",
    "        return 0"
   ]
  },
  {
   "cell_type": "code",
   "execution_count": 394,
   "metadata": {
    "collapsed": true
   },
   "outputs": [],
   "source": [
    "weihnachtsseries = pd.Series(centrumGalerie.index, name='offeneSonntage', index=centrumGalerie.index).apply(isweihnachten)\n",
    "centrumGalerie['Weihnachten'] = weihnachtsseries"
   ]
  },
  {
   "cell_type": "markdown",
   "metadata": {},
   "source": [
    "### Check"
   ]
  },
  {
   "cell_type": "code",
   "execution_count": 395,
   "metadata": {
    "collapsed": false,
    "scrolled": true
   },
   "outputs": [
    {
     "data": {
      "text/html": [
       "<div>\n",
       "<table border=\"1\" class=\"dataframe\">\n",
       "  <thead>\n",
       "    <tr style=\"text-align: right;\">\n",
       "      <th></th>\n",
       "      <th></th>\n",
       "      <th>Parkplatz</th>\n",
       "      <th>Centrum-Galerie</th>\n",
       "      <th>Belegung</th>\n",
       "      <th>Wochentag</th>\n",
       "      <th>Uhrzeit</th>\n",
       "      <th>offenerSonntag</th>\n",
       "      <th>bisFeiertag</th>\n",
       "      <th>nachFeiertag</th>\n",
       "      <th>Schulferien</th>\n",
       "      <th>Weihnachten</th>\n",
       "    </tr>\n",
       "  </thead>\n",
       "  <tbody>\n",
       "    <tr>\n",
       "      <th rowspan=\"30\" valign=\"top\">2014</th>\n",
       "      <th rowspan=\"17\" valign=\"top\">4</th>\n",
       "      <th>14</th>\n",
       "      <td>17</td>\n",
       "      <td>17</td>\n",
       "      <td>0</td>\n",
       "      <td>0</td>\n",
       "      <td>0</td>\n",
       "      <td>4</td>\n",
       "      <td>88</td>\n",
       "      <td>0</td>\n",
       "      <td>0</td>\n",
       "    </tr>\n",
       "    <tr>\n",
       "      <th>15</th>\n",
       "      <td>12</td>\n",
       "      <td>12</td>\n",
       "      <td>1</td>\n",
       "      <td>0</td>\n",
       "      <td>0</td>\n",
       "      <td>3</td>\n",
       "      <td>89</td>\n",
       "      <td>0</td>\n",
       "      <td>0</td>\n",
       "    </tr>\n",
       "    <tr>\n",
       "      <th>16</th>\n",
       "      <td>15</td>\n",
       "      <td>15</td>\n",
       "      <td>2</td>\n",
       "      <td>0</td>\n",
       "      <td>0</td>\n",
       "      <td>2</td>\n",
       "      <td>90</td>\n",
       "      <td>0</td>\n",
       "      <td>0</td>\n",
       "    </tr>\n",
       "    <tr>\n",
       "      <th>17</th>\n",
       "      <td>69</td>\n",
       "      <td>69</td>\n",
       "      <td>3</td>\n",
       "      <td>0</td>\n",
       "      <td>0</td>\n",
       "      <td>1</td>\n",
       "      <td>91</td>\n",
       "      <td>0</td>\n",
       "      <td>0</td>\n",
       "    </tr>\n",
       "    <tr>\n",
       "      <th>18</th>\n",
       "      <td>18</td>\n",
       "      <td>18</td>\n",
       "      <td>4</td>\n",
       "      <td>0</td>\n",
       "      <td>0</td>\n",
       "      <td>0</td>\n",
       "      <td>0</td>\n",
       "      <td>1</td>\n",
       "      <td>0</td>\n",
       "    </tr>\n",
       "    <tr>\n",
       "      <th>19</th>\n",
       "      <td>21</td>\n",
       "      <td>21</td>\n",
       "      <td>5</td>\n",
       "      <td>0</td>\n",
       "      <td>0</td>\n",
       "      <td>1</td>\n",
       "      <td>1</td>\n",
       "      <td>1</td>\n",
       "      <td>0</td>\n",
       "    </tr>\n",
       "    <tr>\n",
       "      <th>20</th>\n",
       "      <td>19</td>\n",
       "      <td>19</td>\n",
       "      <td>6</td>\n",
       "      <td>0</td>\n",
       "      <td>0</td>\n",
       "      <td>0</td>\n",
       "      <td>0</td>\n",
       "      <td>1</td>\n",
       "      <td>0</td>\n",
       "    </tr>\n",
       "    <tr>\n",
       "      <th>21</th>\n",
       "      <td>20</td>\n",
       "      <td>20</td>\n",
       "      <td>0</td>\n",
       "      <td>0</td>\n",
       "      <td>0</td>\n",
       "      <td>0</td>\n",
       "      <td>0</td>\n",
       "      <td>1</td>\n",
       "      <td>0</td>\n",
       "    </tr>\n",
       "    <tr>\n",
       "      <th>22</th>\n",
       "      <td>21</td>\n",
       "      <td>21</td>\n",
       "      <td>1</td>\n",
       "      <td>0</td>\n",
       "      <td>0</td>\n",
       "      <td>8</td>\n",
       "      <td>1</td>\n",
       "      <td>1</td>\n",
       "      <td>0</td>\n",
       "    </tr>\n",
       "    <tr>\n",
       "      <th>23</th>\n",
       "      <td>19</td>\n",
       "      <td>19</td>\n",
       "      <td>2</td>\n",
       "      <td>0</td>\n",
       "      <td>0</td>\n",
       "      <td>7</td>\n",
       "      <td>2</td>\n",
       "      <td>1</td>\n",
       "      <td>0</td>\n",
       "    </tr>\n",
       "    <tr>\n",
       "      <th>24</th>\n",
       "      <td>29</td>\n",
       "      <td>29</td>\n",
       "      <td>3</td>\n",
       "      <td>0</td>\n",
       "      <td>0</td>\n",
       "      <td>6</td>\n",
       "      <td>3</td>\n",
       "      <td>1</td>\n",
       "      <td>0</td>\n",
       "    </tr>\n",
       "    <tr>\n",
       "      <th>25</th>\n",
       "      <td>22</td>\n",
       "      <td>22</td>\n",
       "      <td>4</td>\n",
       "      <td>0</td>\n",
       "      <td>0</td>\n",
       "      <td>5</td>\n",
       "      <td>4</td>\n",
       "      <td>1</td>\n",
       "      <td>0</td>\n",
       "    </tr>\n",
       "    <tr>\n",
       "      <th>26</th>\n",
       "      <td>15</td>\n",
       "      <td>15</td>\n",
       "      <td>5</td>\n",
       "      <td>0</td>\n",
       "      <td>0</td>\n",
       "      <td>4</td>\n",
       "      <td>5</td>\n",
       "      <td>1</td>\n",
       "      <td>0</td>\n",
       "    </tr>\n",
       "    <tr>\n",
       "      <th>27</th>\n",
       "      <td>95</td>\n",
       "      <td>95</td>\n",
       "      <td>6</td>\n",
       "      <td>0</td>\n",
       "      <td>0</td>\n",
       "      <td>3</td>\n",
       "      <td>6</td>\n",
       "      <td>0</td>\n",
       "      <td>0</td>\n",
       "    </tr>\n",
       "    <tr>\n",
       "      <th>28</th>\n",
       "      <td>95</td>\n",
       "      <td>95</td>\n",
       "      <td>0</td>\n",
       "      <td>0</td>\n",
       "      <td>0</td>\n",
       "      <td>3</td>\n",
       "      <td>6</td>\n",
       "      <td>0</td>\n",
       "      <td>0</td>\n",
       "    </tr>\n",
       "    <tr>\n",
       "      <th>29</th>\n",
       "      <td>8</td>\n",
       "      <td>8</td>\n",
       "      <td>1</td>\n",
       "      <td>0</td>\n",
       "      <td>0</td>\n",
       "      <td>2</td>\n",
       "      <td>7</td>\n",
       "      <td>0</td>\n",
       "      <td>0</td>\n",
       "    </tr>\n",
       "    <tr>\n",
       "      <th>30</th>\n",
       "      <td>12</td>\n",
       "      <td>12</td>\n",
       "      <td>2</td>\n",
       "      <td>0</td>\n",
       "      <td>0</td>\n",
       "      <td>1</td>\n",
       "      <td>8</td>\n",
       "      <td>0</td>\n",
       "      <td>0</td>\n",
       "    </tr>\n",
       "    <tr>\n",
       "      <th rowspan=\"13\" valign=\"top\">5</th>\n",
       "      <th>1</th>\n",
       "      <td>15</td>\n",
       "      <td>15</td>\n",
       "      <td>3</td>\n",
       "      <td>0</td>\n",
       "      <td>0</td>\n",
       "      <td>0</td>\n",
       "      <td>0</td>\n",
       "      <td>0</td>\n",
       "      <td>0</td>\n",
       "    </tr>\n",
       "    <tr>\n",
       "      <th>2</th>\n",
       "      <td>23</td>\n",
       "      <td>23</td>\n",
       "      <td>4</td>\n",
       "      <td>0</td>\n",
       "      <td>0</td>\n",
       "      <td>23</td>\n",
       "      <td>1</td>\n",
       "      <td>0</td>\n",
       "      <td>0</td>\n",
       "    </tr>\n",
       "    <tr>\n",
       "      <th>3</th>\n",
       "      <td>22</td>\n",
       "      <td>22</td>\n",
       "      <td>5</td>\n",
       "      <td>0</td>\n",
       "      <td>0</td>\n",
       "      <td>22</td>\n",
       "      <td>2</td>\n",
       "      <td>0</td>\n",
       "      <td>0</td>\n",
       "    </tr>\n",
       "    <tr>\n",
       "      <th>4</th>\n",
       "      <td>17</td>\n",
       "      <td>17</td>\n",
       "      <td>6</td>\n",
       "      <td>0</td>\n",
       "      <td>0</td>\n",
       "      <td>21</td>\n",
       "      <td>3</td>\n",
       "      <td>0</td>\n",
       "      <td>0</td>\n",
       "    </tr>\n",
       "    <tr>\n",
       "      <th>5</th>\n",
       "      <td>26</td>\n",
       "      <td>26</td>\n",
       "      <td>0</td>\n",
       "      <td>0</td>\n",
       "      <td>0</td>\n",
       "      <td>21</td>\n",
       "      <td>3</td>\n",
       "      <td>0</td>\n",
       "      <td>0</td>\n",
       "    </tr>\n",
       "    <tr>\n",
       "      <th>6</th>\n",
       "      <td>22</td>\n",
       "      <td>22</td>\n",
       "      <td>1</td>\n",
       "      <td>0</td>\n",
       "      <td>0</td>\n",
       "      <td>20</td>\n",
       "      <td>4</td>\n",
       "      <td>0</td>\n",
       "      <td>0</td>\n",
       "    </tr>\n",
       "    <tr>\n",
       "      <th>7</th>\n",
       "      <td>44</td>\n",
       "      <td>44</td>\n",
       "      <td>2</td>\n",
       "      <td>0</td>\n",
       "      <td>0</td>\n",
       "      <td>19</td>\n",
       "      <td>5</td>\n",
       "      <td>0</td>\n",
       "      <td>0</td>\n",
       "    </tr>\n",
       "    <tr>\n",
       "      <th>8</th>\n",
       "      <td>20</td>\n",
       "      <td>20</td>\n",
       "      <td>3</td>\n",
       "      <td>0</td>\n",
       "      <td>0</td>\n",
       "      <td>18</td>\n",
       "      <td>6</td>\n",
       "      <td>0</td>\n",
       "      <td>0</td>\n",
       "    </tr>\n",
       "    <tr>\n",
       "      <th>9</th>\n",
       "      <td>20</td>\n",
       "      <td>20</td>\n",
       "      <td>4</td>\n",
       "      <td>0</td>\n",
       "      <td>0</td>\n",
       "      <td>17</td>\n",
       "      <td>7</td>\n",
       "      <td>0</td>\n",
       "      <td>0</td>\n",
       "    </tr>\n",
       "    <tr>\n",
       "      <th>10</th>\n",
       "      <td>27</td>\n",
       "      <td>27</td>\n",
       "      <td>5</td>\n",
       "      <td>0</td>\n",
       "      <td>0</td>\n",
       "      <td>16</td>\n",
       "      <td>8</td>\n",
       "      <td>0</td>\n",
       "      <td>0</td>\n",
       "    </tr>\n",
       "    <tr>\n",
       "      <th>11</th>\n",
       "      <td>27</td>\n",
       "      <td>27</td>\n",
       "      <td>6</td>\n",
       "      <td>0</td>\n",
       "      <td>0</td>\n",
       "      <td>15</td>\n",
       "      <td>9</td>\n",
       "      <td>0</td>\n",
       "      <td>0</td>\n",
       "    </tr>\n",
       "    <tr>\n",
       "      <th>12</th>\n",
       "      <td>27</td>\n",
       "      <td>27</td>\n",
       "      <td>0</td>\n",
       "      <td>0</td>\n",
       "      <td>0</td>\n",
       "      <td>15</td>\n",
       "      <td>9</td>\n",
       "      <td>0</td>\n",
       "      <td>0</td>\n",
       "    </tr>\n",
       "    <tr>\n",
       "      <th>13</th>\n",
       "      <td>30</td>\n",
       "      <td>30</td>\n",
       "      <td>1</td>\n",
       "      <td>0</td>\n",
       "      <td>0</td>\n",
       "      <td>14</td>\n",
       "      <td>10</td>\n",
       "      <td>0</td>\n",
       "      <td>0</td>\n",
       "    </tr>\n",
       "    <tr>\n",
       "      <th>...</th>\n",
       "      <th>...</th>\n",
       "      <th>...</th>\n",
       "      <td>...</td>\n",
       "      <td>...</td>\n",
       "      <td>...</td>\n",
       "      <td>...</td>\n",
       "      <td>...</td>\n",
       "      <td>...</td>\n",
       "      <td>...</td>\n",
       "      <td>...</td>\n",
       "      <td>...</td>\n",
       "    </tr>\n",
       "    <tr>\n",
       "      <th rowspan=\"30\" valign=\"top\">2015</th>\n",
       "      <th rowspan=\"17\" valign=\"top\">3</th>\n",
       "      <th>15</th>\n",
       "      <td>10</td>\n",
       "      <td>10</td>\n",
       "      <td>6</td>\n",
       "      <td>0</td>\n",
       "      <td>0</td>\n",
       "      <td>16</td>\n",
       "      <td>63</td>\n",
       "      <td>0</td>\n",
       "      <td>0</td>\n",
       "    </tr>\n",
       "    <tr>\n",
       "      <th>16</th>\n",
       "      <td>13</td>\n",
       "      <td>13</td>\n",
       "      <td>0</td>\n",
       "      <td>0</td>\n",
       "      <td>0</td>\n",
       "      <td>16</td>\n",
       "      <td>63</td>\n",
       "      <td>0</td>\n",
       "      <td>0</td>\n",
       "    </tr>\n",
       "    <tr>\n",
       "      <th>17</th>\n",
       "      <td>8</td>\n",
       "      <td>8</td>\n",
       "      <td>1</td>\n",
       "      <td>0</td>\n",
       "      <td>0</td>\n",
       "      <td>15</td>\n",
       "      <td>64</td>\n",
       "      <td>0</td>\n",
       "      <td>0</td>\n",
       "    </tr>\n",
       "    <tr>\n",
       "      <th>18</th>\n",
       "      <td>9</td>\n",
       "      <td>9</td>\n",
       "      <td>2</td>\n",
       "      <td>0</td>\n",
       "      <td>0</td>\n",
       "      <td>14</td>\n",
       "      <td>65</td>\n",
       "      <td>0</td>\n",
       "      <td>0</td>\n",
       "    </tr>\n",
       "    <tr>\n",
       "      <th>19</th>\n",
       "      <td>18</td>\n",
       "      <td>18</td>\n",
       "      <td>3</td>\n",
       "      <td>0</td>\n",
       "      <td>0</td>\n",
       "      <td>13</td>\n",
       "      <td>66</td>\n",
       "      <td>0</td>\n",
       "      <td>0</td>\n",
       "    </tr>\n",
       "    <tr>\n",
       "      <th>20</th>\n",
       "      <td>19</td>\n",
       "      <td>19</td>\n",
       "      <td>4</td>\n",
       "      <td>0</td>\n",
       "      <td>0</td>\n",
       "      <td>12</td>\n",
       "      <td>67</td>\n",
       "      <td>0</td>\n",
       "      <td>0</td>\n",
       "    </tr>\n",
       "    <tr>\n",
       "      <th>21</th>\n",
       "      <td>26</td>\n",
       "      <td>26</td>\n",
       "      <td>5</td>\n",
       "      <td>0</td>\n",
       "      <td>0</td>\n",
       "      <td>11</td>\n",
       "      <td>68</td>\n",
       "      <td>0</td>\n",
       "      <td>0</td>\n",
       "    </tr>\n",
       "    <tr>\n",
       "      <th>22</th>\n",
       "      <td>18</td>\n",
       "      <td>18</td>\n",
       "      <td>6</td>\n",
       "      <td>0</td>\n",
       "      <td>0</td>\n",
       "      <td>10</td>\n",
       "      <td>69</td>\n",
       "      <td>0</td>\n",
       "      <td>0</td>\n",
       "    </tr>\n",
       "    <tr>\n",
       "      <th>23</th>\n",
       "      <td>15</td>\n",
       "      <td>15</td>\n",
       "      <td>0</td>\n",
       "      <td>0</td>\n",
       "      <td>0</td>\n",
       "      <td>10</td>\n",
       "      <td>69</td>\n",
       "      <td>0</td>\n",
       "      <td>0</td>\n",
       "    </tr>\n",
       "    <tr>\n",
       "      <th>24</th>\n",
       "      <td>17</td>\n",
       "      <td>17</td>\n",
       "      <td>1</td>\n",
       "      <td>0</td>\n",
       "      <td>0</td>\n",
       "      <td>9</td>\n",
       "      <td>70</td>\n",
       "      <td>0</td>\n",
       "      <td>0</td>\n",
       "    </tr>\n",
       "    <tr>\n",
       "      <th>25</th>\n",
       "      <td>14</td>\n",
       "      <td>14</td>\n",
       "      <td>2</td>\n",
       "      <td>0</td>\n",
       "      <td>0</td>\n",
       "      <td>8</td>\n",
       "      <td>71</td>\n",
       "      <td>0</td>\n",
       "      <td>0</td>\n",
       "    </tr>\n",
       "    <tr>\n",
       "      <th>26</th>\n",
       "      <td>17</td>\n",
       "      <td>17</td>\n",
       "      <td>3</td>\n",
       "      <td>0</td>\n",
       "      <td>0</td>\n",
       "      <td>7</td>\n",
       "      <td>72</td>\n",
       "      <td>0</td>\n",
       "      <td>0</td>\n",
       "    </tr>\n",
       "    <tr>\n",
       "      <th>27</th>\n",
       "      <td>9</td>\n",
       "      <td>9</td>\n",
       "      <td>4</td>\n",
       "      <td>0</td>\n",
       "      <td>0</td>\n",
       "      <td>6</td>\n",
       "      <td>73</td>\n",
       "      <td>0</td>\n",
       "      <td>0</td>\n",
       "    </tr>\n",
       "    <tr>\n",
       "      <th>28</th>\n",
       "      <td>11</td>\n",
       "      <td>11</td>\n",
       "      <td>5</td>\n",
       "      <td>0</td>\n",
       "      <td>0</td>\n",
       "      <td>5</td>\n",
       "      <td>74</td>\n",
       "      <td>0</td>\n",
       "      <td>0</td>\n",
       "    </tr>\n",
       "    <tr>\n",
       "      <th>29</th>\n",
       "      <td>10</td>\n",
       "      <td>10</td>\n",
       "      <td>6</td>\n",
       "      <td>0</td>\n",
       "      <td>0</td>\n",
       "      <td>4</td>\n",
       "      <td>75</td>\n",
       "      <td>0</td>\n",
       "      <td>0</td>\n",
       "    </tr>\n",
       "    <tr>\n",
       "      <th>30</th>\n",
       "      <td>15</td>\n",
       "      <td>15</td>\n",
       "      <td>0</td>\n",
       "      <td>0</td>\n",
       "      <td>0</td>\n",
       "      <td>4</td>\n",
       "      <td>75</td>\n",
       "      <td>0</td>\n",
       "      <td>0</td>\n",
       "    </tr>\n",
       "    <tr>\n",
       "      <th>31</th>\n",
       "      <td>15</td>\n",
       "      <td>15</td>\n",
       "      <td>1</td>\n",
       "      <td>0</td>\n",
       "      <td>0</td>\n",
       "      <td>3</td>\n",
       "      <td>76</td>\n",
       "      <td>0</td>\n",
       "      <td>0</td>\n",
       "    </tr>\n",
       "    <tr>\n",
       "      <th rowspan=\"13\" valign=\"top\">4</th>\n",
       "      <th>1</th>\n",
       "      <td>10</td>\n",
       "      <td>10</td>\n",
       "      <td>2</td>\n",
       "      <td>0</td>\n",
       "      <td>0</td>\n",
       "      <td>2</td>\n",
       "      <td>77</td>\n",
       "      <td>0</td>\n",
       "      <td>0</td>\n",
       "    </tr>\n",
       "    <tr>\n",
       "      <th>2</th>\n",
       "      <td>7</td>\n",
       "      <td>7</td>\n",
       "      <td>3</td>\n",
       "      <td>0</td>\n",
       "      <td>0</td>\n",
       "      <td>1</td>\n",
       "      <td>78</td>\n",
       "      <td>1</td>\n",
       "      <td>0</td>\n",
       "    </tr>\n",
       "    <tr>\n",
       "      <th>3</th>\n",
       "      <td>6</td>\n",
       "      <td>6</td>\n",
       "      <td>4</td>\n",
       "      <td>0</td>\n",
       "      <td>0</td>\n",
       "      <td>0</td>\n",
       "      <td>0</td>\n",
       "      <td>1</td>\n",
       "      <td>0</td>\n",
       "    </tr>\n",
       "    <tr>\n",
       "      <th>4</th>\n",
       "      <td>13</td>\n",
       "      <td>13</td>\n",
       "      <td>5</td>\n",
       "      <td>0</td>\n",
       "      <td>0</td>\n",
       "      <td>1</td>\n",
       "      <td>1</td>\n",
       "      <td>1</td>\n",
       "      <td>0</td>\n",
       "    </tr>\n",
       "    <tr>\n",
       "      <th>5</th>\n",
       "      <td>75</td>\n",
       "      <td>75</td>\n",
       "      <td>6</td>\n",
       "      <td>0</td>\n",
       "      <td>0</td>\n",
       "      <td>0</td>\n",
       "      <td>0</td>\n",
       "      <td>1</td>\n",
       "      <td>0</td>\n",
       "    </tr>\n",
       "    <tr>\n",
       "      <th>6</th>\n",
       "      <td>75</td>\n",
       "      <td>75</td>\n",
       "      <td>0</td>\n",
       "      <td>0</td>\n",
       "      <td>0</td>\n",
       "      <td>0</td>\n",
       "      <td>0</td>\n",
       "      <td>1</td>\n",
       "      <td>0</td>\n",
       "    </tr>\n",
       "    <tr>\n",
       "      <th>7</th>\n",
       "      <td>16</td>\n",
       "      <td>16</td>\n",
       "      <td>1</td>\n",
       "      <td>0</td>\n",
       "      <td>0</td>\n",
       "      <td>21</td>\n",
       "      <td>1</td>\n",
       "      <td>1</td>\n",
       "      <td>0</td>\n",
       "    </tr>\n",
       "    <tr>\n",
       "      <th>8</th>\n",
       "      <td>21</td>\n",
       "      <td>21</td>\n",
       "      <td>2</td>\n",
       "      <td>0</td>\n",
       "      <td>0</td>\n",
       "      <td>20</td>\n",
       "      <td>2</td>\n",
       "      <td>1</td>\n",
       "      <td>0</td>\n",
       "    </tr>\n",
       "    <tr>\n",
       "      <th>9</th>\n",
       "      <td>19</td>\n",
       "      <td>19</td>\n",
       "      <td>3</td>\n",
       "      <td>0</td>\n",
       "      <td>0</td>\n",
       "      <td>19</td>\n",
       "      <td>3</td>\n",
       "      <td>1</td>\n",
       "      <td>0</td>\n",
       "    </tr>\n",
       "    <tr>\n",
       "      <th>10</th>\n",
       "      <td>23</td>\n",
       "      <td>23</td>\n",
       "      <td>4</td>\n",
       "      <td>0</td>\n",
       "      <td>0</td>\n",
       "      <td>18</td>\n",
       "      <td>4</td>\n",
       "      <td>1</td>\n",
       "      <td>0</td>\n",
       "    </tr>\n",
       "    <tr>\n",
       "      <th>11</th>\n",
       "      <td>16</td>\n",
       "      <td>16</td>\n",
       "      <td>5</td>\n",
       "      <td>0</td>\n",
       "      <td>0</td>\n",
       "      <td>17</td>\n",
       "      <td>5</td>\n",
       "      <td>1</td>\n",
       "      <td>0</td>\n",
       "    </tr>\n",
       "    <tr>\n",
       "      <th>12</th>\n",
       "      <td>12</td>\n",
       "      <td>12</td>\n",
       "      <td>6</td>\n",
       "      <td>0</td>\n",
       "      <td>0</td>\n",
       "      <td>16</td>\n",
       "      <td>6</td>\n",
       "      <td>0</td>\n",
       "      <td>0</td>\n",
       "    </tr>\n",
       "    <tr>\n",
       "      <th>13</th>\n",
       "      <td>15</td>\n",
       "      <td>15</td>\n",
       "      <td>0</td>\n",
       "      <td>0</td>\n",
       "      <td>0</td>\n",
       "      <td>16</td>\n",
       "      <td>6</td>\n",
       "      <td>0</td>\n",
       "      <td>0</td>\n",
       "    </tr>\n",
       "  </tbody>\n",
       "</table>\n",
       "<p>362 rows × 9 columns</p>\n",
       "</div>"
      ],
      "text/plain": [
       "Parkplatz  Centrum-Galerie  Belegung  Wochentag  Uhrzeit  offenerSonntag  \\\n",
       "2014 4 14               17        17          0        0               0   \n",
       "       15               12        12          1        0               0   \n",
       "       16               15        15          2        0               0   \n",
       "       17               69        69          3        0               0   \n",
       "       18               18        18          4        0               0   \n",
       "       19               21        21          5        0               0   \n",
       "       20               19        19          6        0               0   \n",
       "       21               20        20          0        0               0   \n",
       "       22               21        21          1        0               0   \n",
       "       23               19        19          2        0               0   \n",
       "       24               29        29          3        0               0   \n",
       "       25               22        22          4        0               0   \n",
       "       26               15        15          5        0               0   \n",
       "       27               95        95          6        0               0   \n",
       "       28               95        95          0        0               0   \n",
       "       29                8         8          1        0               0   \n",
       "       30               12        12          2        0               0   \n",
       "     5 1                15        15          3        0               0   \n",
       "       2                23        23          4        0               0   \n",
       "       3                22        22          5        0               0   \n",
       "       4                17        17          6        0               0   \n",
       "       5                26        26          0        0               0   \n",
       "       6                22        22          1        0               0   \n",
       "       7                44        44          2        0               0   \n",
       "       8                20        20          3        0               0   \n",
       "       9                20        20          4        0               0   \n",
       "       10               27        27          5        0               0   \n",
       "       11               27        27          6        0               0   \n",
       "       12               27        27          0        0               0   \n",
       "       13               30        30          1        0               0   \n",
       "...                    ...       ...        ...      ...             ...   \n",
       "2015 3 15               10        10          6        0               0   \n",
       "       16               13        13          0        0               0   \n",
       "       17                8         8          1        0               0   \n",
       "       18                9         9          2        0               0   \n",
       "       19               18        18          3        0               0   \n",
       "       20               19        19          4        0               0   \n",
       "       21               26        26          5        0               0   \n",
       "       22               18        18          6        0               0   \n",
       "       23               15        15          0        0               0   \n",
       "       24               17        17          1        0               0   \n",
       "       25               14        14          2        0               0   \n",
       "       26               17        17          3        0               0   \n",
       "       27                9         9          4        0               0   \n",
       "       28               11        11          5        0               0   \n",
       "       29               10        10          6        0               0   \n",
       "       30               15        15          0        0               0   \n",
       "       31               15        15          1        0               0   \n",
       "     4 1                10        10          2        0               0   \n",
       "       2                 7         7          3        0               0   \n",
       "       3                 6         6          4        0               0   \n",
       "       4                13        13          5        0               0   \n",
       "       5                75        75          6        0               0   \n",
       "       6                75        75          0        0               0   \n",
       "       7                16        16          1        0               0   \n",
       "       8                21        21          2        0               0   \n",
       "       9                19        19          3        0               0   \n",
       "       10               23        23          4        0               0   \n",
       "       11               16        16          5        0               0   \n",
       "       12               12        12          6        0               0   \n",
       "       13               15        15          0        0               0   \n",
       "\n",
       "Parkplatz  bisFeiertag  nachFeiertag  Schulferien  Weihnachten  \n",
       "2014 4 14            4            88            0            0  \n",
       "       15            3            89            0            0  \n",
       "       16            2            90            0            0  \n",
       "       17            1            91            0            0  \n",
       "       18            0             0            1            0  \n",
       "       19            1             1            1            0  \n",
       "       20            0             0            1            0  \n",
       "       21            0             0            1            0  \n",
       "       22            8             1            1            0  \n",
       "       23            7             2            1            0  \n",
       "       24            6             3            1            0  \n",
       "       25            5             4            1            0  \n",
       "       26            4             5            1            0  \n",
       "       27            3             6            0            0  \n",
       "       28            3             6            0            0  \n",
       "       29            2             7            0            0  \n",
       "       30            1             8            0            0  \n",
       "     5 1             0             0            0            0  \n",
       "       2            23             1            0            0  \n",
       "       3            22             2            0            0  \n",
       "       4            21             3            0            0  \n",
       "       5            21             3            0            0  \n",
       "       6            20             4            0            0  \n",
       "       7            19             5            0            0  \n",
       "       8            18             6            0            0  \n",
       "       9            17             7            0            0  \n",
       "       10           16             8            0            0  \n",
       "       11           15             9            0            0  \n",
       "       12           15             9            0            0  \n",
       "       13           14            10            0            0  \n",
       "...                ...           ...          ...          ...  \n",
       "2015 3 15           16            63            0            0  \n",
       "       16           16            63            0            0  \n",
       "       17           15            64            0            0  \n",
       "       18           14            65            0            0  \n",
       "       19           13            66            0            0  \n",
       "       20           12            67            0            0  \n",
       "       21           11            68            0            0  \n",
       "       22           10            69            0            0  \n",
       "       23           10            69            0            0  \n",
       "       24            9            70            0            0  \n",
       "       25            8            71            0            0  \n",
       "       26            7            72            0            0  \n",
       "       27            6            73            0            0  \n",
       "       28            5            74            0            0  \n",
       "       29            4            75            0            0  \n",
       "       30            4            75            0            0  \n",
       "       31            3            76            0            0  \n",
       "     4 1             2            77            0            0  \n",
       "       2             1            78            1            0  \n",
       "       3             0             0            1            0  \n",
       "       4             1             1            1            0  \n",
       "       5             0             0            1            0  \n",
       "       6             0             0            1            0  \n",
       "       7            21             1            1            0  \n",
       "       8            20             2            1            0  \n",
       "       9            19             3            1            0  \n",
       "       10           18             4            1            0  \n",
       "       11           17             5            1            0  \n",
       "       12           16             6            0            0  \n",
       "       13           16             6            0            0  \n",
       "\n",
       "[362 rows x 9 columns]"
      ]
     },
     "execution_count": 395,
     "metadata": {},
     "output_type": "execute_result"
    }
   ],
   "source": [
    "centrumGalerie.groupby([centrumGalerie.index.year, centrumGalerie.index.month, centrumGalerie.index.day]).first()"
   ]
  },
  {
   "cell_type": "markdown",
   "metadata": {},
   "source": [
    "### Featurevector"
   ]
  },
  {
   "cell_type": "code",
   "execution_count": 396,
   "metadata": {
    "collapsed": true
   },
   "outputs": [],
   "source": [
    "featurevector = ['Wochentag','Uhrzeit','Schulferien','offenerSonntag','bisFeiertag','nachFeiertag','Weihnachten']"
   ]
  },
  {
   "cell_type": "markdown",
   "metadata": {},
   "source": [
    "OK, nun haben wir Labels und Features fertig.\n",
    "\n",
    "Nun können wir Test und Trainingsdatensatz erstellen.\n",
    "\n",
    "## Train some Machine Learning Classifiers"
   ]
  },
  {
   "cell_type": "code",
   "execution_count": 397,
   "metadata": {
    "collapsed": false
   },
   "outputs": [
    {
     "data": {
      "text/plain": [
       "(34525,)"
      ]
     },
     "execution_count": 397,
     "metadata": {},
     "output_type": "execute_result"
    }
   ],
   "source": [
    "labels = centrumGalerie['Belegung'].values\n",
    "np.shape(labels)"
   ]
  },
  {
   "cell_type": "code",
   "execution_count": 398,
   "metadata": {
    "collapsed": false
   },
   "outputs": [
    {
     "data": {
      "text/plain": [
       "(34525, 7)"
      ]
     },
     "execution_count": 398,
     "metadata": {},
     "output_type": "execute_result"
    }
   ],
   "source": [
    "features = centrumGalerie[featurevector].values\n",
    "np.shape(features)"
   ]
  },
  {
   "cell_type": "code",
   "execution_count": 399,
   "metadata": {
    "collapsed": true
   },
   "outputs": [],
   "source": [
    "from sklearn.cross_validation import train_test_split\n",
    "from sklearn import preprocessing\n",
    "from sklearn.metrics import accuracy_score, confusion_matrix, r2_score"
   ]
  },
  {
   "cell_type": "code",
   "execution_count": 400,
   "metadata": {
    "collapsed": true
   },
   "outputs": [],
   "source": [
    "# Import some Models to cycle through\n",
    "from sklearn.neighbors import KNeighborsClassifier\n",
    "from sklearn.naive_bayes import GaussianNB\n",
    "from sklearn.tree import DecisionTreeRegressor\n",
    "from sklearn.ensemble import RandomForestClassifier\n",
    "from sklearn.tree import DecisionTreeClassifier"
   ]
  },
  {
   "cell_type": "markdown",
   "metadata": {
    "collapsed": false
   },
   "source": [
    "### Split into test and training set\n",
    "\n",
    "To get an accuracy score, we need to split our dataset in a training and a test set. We train with the training set and test the model later with the part of the test set."
   ]
  },
  {
   "cell_type": "code",
   "execution_count": 401,
   "metadata": {
    "collapsed": false
   },
   "outputs": [],
   "source": [
    "features_train, features_test, labels_train, labels_test = train_test_split(features, labels, test_size=0.2, random_state=42)"
   ]
  },
  {
   "cell_type": "code",
   "execution_count": 402,
   "metadata": {
    "collapsed": false
   },
   "outputs": [
    {
     "data": {
      "text/plain": [
       "(6905,)"
      ]
     },
     "execution_count": 402,
     "metadata": {},
     "output_type": "execute_result"
    }
   ],
   "source": [
    "np.shape(labels_test)"
   ]
  },
  {
   "cell_type": "markdown",
   "metadata": {},
   "source": [
    "### Test some models with standard parameter set"
   ]
  },
  {
   "cell_type": "code",
   "execution_count": 403,
   "metadata": {
    "collapsed": false
   },
   "outputs": [
    {
     "name": "stdout",
     "output_type": "stream",
     "text": [
      "0.048 Accuracy Score by KNeighborsClassifier (Fit Time: 0.03s, Predict Time: 0.08s)\n",
      "0.047 Accuracy Score by GaussianNB (Fit Time: 0.02s, Predict Time: 0.07s)\n",
      "0.452 Accuracy Score by RandomForestClassifier (Fit Time: 0.61s, Predict Time: 0.12s)\n",
      "0.452 Accuracy Score by DecisionTreeClassifier (Fit Time: 0.15s, Predict Time: 0.01s)\n",
      "0.461 Accuracy Score by DecisionTreeRegressor (Fit Time: 0.08s, Predict Time: 0.00s)\n"
     ]
    }
   ],
   "source": [
    "for Model in [KNeighborsClassifier, GaussianNB, RandomForestClassifier, DecisionTreeClassifier, DecisionTreeRegressor]:\n",
    "\n",
    "    modelname = str(Model).split('.')[-1][:-2]\n",
    "    #print modelname\n",
    "    \n",
    "    t0 = time.time()\n",
    "    \n",
    "    clf = Model().fit(features_train, labels_train)\n",
    "    tt = time.time()\n",
    "    \n",
    "    labels_predict = clf.predict(features_test).astype('int')\n",
    "    tp = time.time()\n",
    "    \n",
    "    score = accuracy_score(labels_predict, labels_test)\n",
    "\n",
    "    print('%.3f Accuracy Score by %s (Fit Time: %.2fs, Predict Time: %.2fs)' % (score, modelname, tt-t0, tp-tt))"
   ]
  },
  {
   "cell_type": "markdown",
   "metadata": {},
   "source": [
    "These accuracy scores don't look that amazing, but remember, we try to predict the occupation of a park house by 1% precision. In reality, it doesn't matter if our model predicts 15% and the real value is 16%, but the accuracy score gives a penalty as false prediction. We don't care. :)"
   ]
  },
  {
   "cell_type": "markdown",
   "metadata": {},
   "source": [
    "### DecisionTreeRegressor looks good and is fast, let's try some parameters"
   ]
  },
  {
   "cell_type": "markdown",
   "metadata": {},
   "source": [
    "Because it is a regression (output of the prediction are integer) it might fit the data better than a classifier. So we test the the predicted labels with the test labels with the $R^2$ score (coefficient of determination)."
   ]
  },
  {
   "cell_type": "code",
   "execution_count": 404,
   "metadata": {
    "collapsed": false
   },
   "outputs": [
    {
     "name": "stdout",
     "output_type": "stream",
     "text": [
      "max_depth\tmin_samples_leaf\tR2_score (higher is better)\n",
      "10\t\t\t40\t\t\t0.833\n",
      "11\t\t\t40\t\t\t0.844\n",
      "12\t\t\t40\t\t\t0.851\n",
      "13\t\t\t40\t\t\t0.858\n",
      "14\t\t\t40\t\t\t0.862\n",
      "15\t\t\t40\t\t\t0.863\n",
      "16\t\t\t40\t\t\t0.864\n",
      "17\t\t\t40\t\t\t0.864\n",
      "18\t\t\t40\t\t\t0.864\n",
      "19\t\t\t40\t\t\t0.864\n",
      "20\t\t\t40\t\t\t0.864\n",
      "21\t\t\t40\t\t\t0.864\n",
      "22\t\t\t40\t\t\t0.865\n"
     ]
    }
   ],
   "source": [
    "print('max_depth\\tmin_samples_leaf\\tR2_score (higher is better)')\n",
    "maxscore = 0.8\n",
    "for md in range(10, 30):\n",
    "    for mins in range(40, 50):\n",
    "        classifier = DecisionTreeRegressor(max_depth=md, min_samples_leaf=mins).fit(features_train, labels_train)\n",
    "        labels_predict = classifier.predict(features_test)\n",
    "        #labels_rounded = [round(label/10.0)*10.0 for label in labels_predict]\n",
    "        score = r2_score(labels_test, labels_predict)\n",
    "        if score>maxscore:\n",
    "            print('%i\\t\\t\\t%i\\t\\t\\t%.3f' % (md, mins, score))\n",
    "            maxscore=score"
   ]
  },
  {
   "cell_type": "markdown",
   "metadata": {},
   "source": [
    "A high $R^2$-score is better, but if we have a high `max_depth` and low `min_samples_leaf`, we might overfit the dataset. The score is not everything. See [Tips on Practical Use of Decision Trees](http://scikit-learn.org/stable/modules/tree.html#tips-on-practical-use)"
   ]
  },
  {
   "cell_type": "markdown",
   "metadata": {},
   "source": [
    "## Model"
   ]
  },
  {
   "cell_type": "code",
   "execution_count": 405,
   "metadata": {
    "collapsed": true
   },
   "outputs": [],
   "source": [
    "classifier = DecisionTreeRegressor(max_depth=16, min_samples_leaf=40).fit(features_train, labels_train)"
   ]
  },
  {
   "cell_type": "markdown",
   "metadata": {},
   "source": [
    "### Overfit test\n",
    "\n",
    "One can check for overfitting by just test the model with the training features. If the score is very high (and the score with the test features is low), it is likely, that the model is overfitted."
   ]
  },
  {
   "cell_type": "code",
   "execution_count": 406,
   "metadata": {
    "collapsed": false
   },
   "outputs": [
    {
     "name": "stdout",
     "output_type": "stream",
     "text": [
      "0.090 Accuracy Score with training data\n"
     ]
    }
   ],
   "source": [
    "# Let's check if we overfit. If, the accuracy with the training set is very high, with the test set very low.\n",
    "labels_predict_overfittest = classifier.predict(features_train).astype('int')\n",
    "score = accuracy_score(labels_train, labels_predict_overfittest)\n",
    "print('%.3f Accuracy Score with training data' % (score))\n",
    "\n",
    "if score>0.4:\n",
    "    print('You probably overfit it!')"
   ]
  },
  {
   "cell_type": "markdown",
   "metadata": {},
   "source": [
    "### What is the most important feature for the model"
   ]
  },
  {
   "cell_type": "code",
   "execution_count": 407,
   "metadata": {
    "collapsed": false
   },
   "outputs": [],
   "source": [
    "importances = classifier.feature_importances_"
   ]
  },
  {
   "cell_type": "code",
   "execution_count": 408,
   "metadata": {
    "collapsed": false
   },
   "outputs": [
    {
     "data": {
      "image/png": "[encoded data removed]",
      "text/plain": [
       "<matplotlib.figure.Figure at 0x10fe22390>"
      ]
     },
     "metadata": {},
     "output_type": "display_data"
    }
   ],
   "source": [
    "featureimportance = pd.DataFrame(index=featurevector, data=importances, columns=['Importance']).sort('Importance', ascending=False).plot(kind='bar', rot=20)"
   ]
  },
  {
   "cell_type": "markdown",
   "metadata": {},
   "source": [
    "Obviously it is the time of the day (`Minuten` since midnight), the calender week, the days until the next holiday (because people tend to go shopping if the weekend is long) and for sure the day of the week (because saturday is shopping day!)."
   ]
  },
  {
   "cell_type": "code",
   "execution_count": 409,
   "metadata": {
    "collapsed": false
   },
   "outputs": [],
   "source": [
    "labels_predict = classifier.predict(features_test).astype('int')"
   ]
  },
  {
   "cell_type": "code",
   "execution_count": 410,
   "metadata": {
    "collapsed": false
   },
   "outputs": [
    {
     "data": {
      "text/plain": [
       "0.8631143040702014"
      ]
     },
     "execution_count": 410,
     "metadata": {},
     "output_type": "execute_result"
    }
   ],
   "source": [
    "r2_score(labels_test, labels_predict)"
   ]
  },
  {
   "cell_type": "markdown",
   "metadata": {},
   "source": [
    "### Let's take a look at the confusion matrix"
   ]
  },
  {
   "cell_type": "code",
   "execution_count": 411,
   "metadata": {
    "collapsed": false
   },
   "outputs": [
    {
     "data": {
      "text/plain": [
       "<matplotlib.text.Text at 0x114773190>"
      ]
     },
     "execution_count": 411,
     "metadata": {},
     "output_type": "execute_result"
    },
    {
     "data": {
      "image/png": "[encoded data removed]",
      "text/plain": [
       "<matplotlib.figure.Figure at 0x10fe3c350>"
      ]
     },
     "metadata": {},
     "output_type": "display_data"
    }
   ],
   "source": [
    "cm = confusion_matrix(labels_predict, labels_test)\n",
    "\n",
    "plt.matshow(cm, cmap=plt.cm.Spectral_r, interpolation='none')\n",
    "plt.colorbar(shrink=0.8)\n",
    "plt.ylabel(u'Wahre Belegung in %')\n",
    "plt.xlabel(u'Geschätzte Belegung in %')"
   ]
  },
  {
   "cell_type": "markdown",
   "metadata": {
    "collapsed": false
   },
   "source": [
    "As you can see, the confusion matrix looks pretty good. That's not perfect, but take into account, that we just have a few features for such a complex scenario like inner-city parking space occupation."
   ]
  },
  {
   "cell_type": "markdown",
   "metadata": {},
   "source": [
    "# Predict\n",
    "\n",
    "Here we predict it for the whole dataset"
   ]
  },
  {
   "cell_type": "code",
   "execution_count": 412,
   "metadata": {
    "collapsed": false
   },
   "outputs": [],
   "source": [
    "def predictBelegung(df):\n",
    "    features = df[featurevector].values\n",
    "    prediction = int(classifier.predict([features]))\n",
    "    return prediction"
   ]
  },
  {
   "cell_type": "markdown",
   "metadata": {
    "collapsed": false
   },
   "source": [
    "Fire it on the whole Dataset"
   ]
  },
  {
   "cell_type": "code",
   "execution_count": 413,
   "metadata": {
    "collapsed": false
   },
   "outputs": [],
   "source": [
    "centrumGalerie['Vorhersage'] = centrumGalerie.apply(predictBelegung, axis=1)"
   ]
  },
  {
   "cell_type": "code",
   "execution_count": 414,
   "metadata": {
    "collapsed": false
   },
   "outputs": [
    {
     "data": {
      "text/html": [
       "<div>\n",
       "<table border=\"1\" class=\"dataframe\">\n",
       "  <thead>\n",
       "    <tr style=\"text-align: right;\">\n",
       "      <th>Parkplatz</th>\n",
       "      <th>Centrum-Galerie</th>\n",
       "      <th>Belegung</th>\n",
       "      <th>Wochentag</th>\n",
       "      <th>Uhrzeit</th>\n",
       "      <th>offenerSonntag</th>\n",
       "      <th>bisFeiertag</th>\n",
       "      <th>nachFeiertag</th>\n",
       "      <th>Schulferien</th>\n",
       "      <th>Weihnachten</th>\n",
       "      <th>Vorhersage</th>\n",
       "    </tr>\n",
       "    <tr>\n",
       "      <th>Zeit</th>\n",
       "      <th></th>\n",
       "      <th></th>\n",
       "      <th></th>\n",
       "      <th></th>\n",
       "      <th></th>\n",
       "      <th></th>\n",
       "      <th></th>\n",
       "      <th></th>\n",
       "      <th></th>\n",
       "      <th></th>\n",
       "    </tr>\n",
       "  </thead>\n",
       "  <tbody>\n",
       "    <tr>\n",
       "      <th>2014-04-14 00:00:07</th>\n",
       "      <td>17</td>\n",
       "      <td>17</td>\n",
       "      <td>0</td>\n",
       "      <td>0</td>\n",
       "      <td>0</td>\n",
       "      <td>4</td>\n",
       "      <td>88</td>\n",
       "      <td>0</td>\n",
       "      <td>0</td>\n",
       "      <td>17</td>\n",
       "    </tr>\n",
       "    <tr>\n",
       "      <th>2014-04-14 00:15:04</th>\n",
       "      <td>17</td>\n",
       "      <td>17</td>\n",
       "      <td>0</td>\n",
       "      <td>15</td>\n",
       "      <td>0</td>\n",
       "      <td>4</td>\n",
       "      <td>88</td>\n",
       "      <td>0</td>\n",
       "      <td>0</td>\n",
       "      <td>17</td>\n",
       "    </tr>\n",
       "    <tr>\n",
       "      <th>2014-04-14 00:30:04</th>\n",
       "      <td>17</td>\n",
       "      <td>17</td>\n",
       "      <td>0</td>\n",
       "      <td>30</td>\n",
       "      <td>0</td>\n",
       "      <td>4</td>\n",
       "      <td>88</td>\n",
       "      <td>0</td>\n",
       "      <td>0</td>\n",
       "      <td>17</td>\n",
       "    </tr>\n",
       "    <tr>\n",
       "      <th>2014-04-14 00:45:04</th>\n",
       "      <td>17</td>\n",
       "      <td>17</td>\n",
       "      <td>0</td>\n",
       "      <td>45</td>\n",
       "      <td>0</td>\n",
       "      <td>4</td>\n",
       "      <td>88</td>\n",
       "      <td>0</td>\n",
       "      <td>0</td>\n",
       "      <td>17</td>\n",
       "    </tr>\n",
       "    <tr>\n",
       "      <th>2014-04-14 01:00:05</th>\n",
       "      <td>17</td>\n",
       "      <td>17</td>\n",
       "      <td>0</td>\n",
       "      <td>60</td>\n",
       "      <td>0</td>\n",
       "      <td>4</td>\n",
       "      <td>88</td>\n",
       "      <td>0</td>\n",
       "      <td>0</td>\n",
       "      <td>17</td>\n",
       "    </tr>\n",
       "  </tbody>\n",
       "</table>\n",
       "</div>"
      ],
      "text/plain": [
       "Parkplatz            Centrum-Galerie  Belegung  Wochentag  Uhrzeit  \\\n",
       "Zeit                                                                 \n",
       "2014-04-14 00:00:07               17        17          0        0   \n",
       "2014-04-14 00:15:04               17        17          0       15   \n",
       "2014-04-14 00:30:04               17        17          0       30   \n",
       "2014-04-14 00:45:04               17        17          0       45   \n",
       "2014-04-14 01:00:05               17        17          0       60   \n",
       "\n",
       "Parkplatz            offenerSonntag  bisFeiertag  nachFeiertag  Schulferien  \\\n",
       "Zeit                                                                          \n",
       "2014-04-14 00:00:07               0            4            88            0   \n",
       "2014-04-14 00:15:04               0            4            88            0   \n",
       "2014-04-14 00:30:04               0            4            88            0   \n",
       "2014-04-14 00:45:04               0            4            88            0   \n",
       "2014-04-14 01:00:05               0            4            88            0   \n",
       "\n",
       "Parkplatz            Weihnachten  Vorhersage  \n",
       "Zeit                                          \n",
       "2014-04-14 00:00:07            0          17  \n",
       "2014-04-14 00:15:04            0          17  \n",
       "2014-04-14 00:30:04            0          17  \n",
       "2014-04-14 00:45:04            0          17  \n",
       "2014-04-14 01:00:05            0          17  "
      ]
     },
     "execution_count": 414,
     "metadata": {},
     "output_type": "execute_result"
    }
   ],
   "source": [
    "centrumGalerie.head(5)"
   ]
  },
  {
   "cell_type": "code",
   "execution_count": 415,
   "metadata": {
    "collapsed": true
   },
   "outputs": [],
   "source": [
    "centrumGalerie['Vorhersage'] = pd.rolling_mean(centrumGalerie['Vorhersage'], 8).shift(-4)"
   ]
  },
  {
   "cell_type": "code",
   "execution_count": 416,
   "metadata": {
    "collapsed": false
   },
   "outputs": [
    {
     "data": {
      "text/plain": [
       "<module 'matplotlib.pyplot' from '/Users/paul/anaconda/lib/python2.7/site-packages/matplotlib/pyplot.pyc'>"
      ]
     },
     "execution_count": 416,
     "metadata": {},
     "output_type": "execute_result"
    },
    {
     "data": {
      "image/png": "[encoded data removed]",
      "text/plain": [
       "<matplotlib.figure.Figure at 0x10e5b3850>"
      ]
     },
     "metadata": {},
     "output_type": "display_data"
    }
   ],
   "source": [
    "plotbelegung(centrumGalerie, [parkingspot, 'Vorhersage'], '2014-07-07', '2014-07-20')"
   ]
  },
  {
   "cell_type": "markdown",
   "metadata": {},
   "source": [
    "## Let's test some predictions"
   ]
  },
  {
   "cell_type": "code",
   "execution_count": 417,
   "metadata": {
    "collapsed": false
   },
   "outputs": [
    {
     "data": {
      "text/plain": [
       "['Wochentag',\n",
       " 'Uhrzeit',\n",
       " 'Schulferien',\n",
       " 'offenerSonntag',\n",
       " 'bisFeiertag',\n",
       " 'nachFeiertag',\n",
       " 'Weihnachten']"
      ]
     },
     "execution_count": 417,
     "metadata": {},
     "output_type": "execute_result"
    }
   ],
   "source": [
    "featurevector"
   ]
  },
  {
   "cell_type": "markdown",
   "metadata": {},
   "source": [
    "### Beispiel 1\n",
    "\n",
    "* Samstag (0=Mo, 1=Di, 2=Mi, 3=Do, 4=Fr, 5=Sa, 6=So)\n",
    "* 15Uhr (`15h` nach 0Uhr)\n",
    "* Schulferien\n",
    "* kein verkaufsoffener Sonntag\n",
    "* 5 Tage bis zum nächsten Feiertag\n",
    "* 3 Tage nach einem Feiertag\n",
    "* kein Weihnachten"
   ]
  },
  {
   "cell_type": "code",
   "execution_count": 418,
   "metadata": {
    "collapsed": false
   },
   "outputs": [
    {
     "name": "stdout",
     "output_type": "stream",
     "text": [
      "99% Belegung\n"
     ]
    }
   ],
   "source": [
    "print('%i%% Belegung' % classifier.predict([5, 15*60, 1, 0, 5, 3, 0]))"
   ]
  },
  {
   "cell_type": "markdown",
   "metadata": {},
   "source": [
    "### Beispiel 2\n",
    "\n",
    "* Sonntag (0=Mo, 1=Di, 2=Mi, 3=Do, 4=Fr, 5=Sa, 6=So)\n",
    "* 15Uhr (`15h` nach 0Uhr)\n",
    "* keine Schulferien\n",
    "* kein verkaufsoffener Sonntag\n",
    "* 15 Werktage bis zum nächsten Feiertag\n",
    "* 1 Tag nach einem Feiertag\n",
    "* kein Weihnachten"
   ]
  },
  {
   "cell_type": "code",
   "execution_count": 419,
   "metadata": {
    "collapsed": false
   },
   "outputs": [
    {
     "name": "stdout",
     "output_type": "stream",
     "text": [
      "66% Belegung\n"
     ]
    }
   ],
   "source": [
    "print('%i%% Belegung' % classifier.predict([6, 15*60, 0, 0, 3, 10, 0]))"
   ]
  },
  {
   "cell_type": "markdown",
   "metadata": {},
   "source": [
    "# If we want to predict the future, let's create it"
   ]
  },
  {
   "cell_type": "code",
   "execution_count": 420,
   "metadata": {
    "collapsed": false
   },
   "outputs": [],
   "source": [
    "future = pd.DataFrame(index=pd.date_range('2015-06-01', '2016-01-01', freq='30Min'))\n",
    "future.index.name = 'date'\n",
    "future['Wochentag'] = future.index.dayofweek\n",
    "#future['KW'] = future.index.week\n",
    "future['Uhrzeit'] = future.index.hour*60.0 + future.index.minute\n",
    "ferienseries = pd.Series(future.index, name='Schulferien', index=future.index).apply(isschulferien)\n",
    "future['Schulferien'] = ferienseries\n",
    "feiertagseries = pd.Series(future.index, name='Feiertage', index=future.index).apply(shoppingdaystonextfeiertag)\n",
    "future['bisFeiertag'] = feiertagseries\n",
    "feiertagseries = pd.Series(future.index, name='Feiertage', index=future.index).apply(shoppingdaysafterfeiertag)\n",
    "future['nachFeiertag'] = feiertagseries\n",
    "sonntagsseries = pd.Series(future.index, name='offeneSonntage', index=future.index).apply(isoffenersonntag)\n",
    "future['offenerSonntag'] = sonntagsseries\n",
    "weihnachtsseries = pd.Series(future.index, name='offeneSonntage', index=future.index).apply(isweihnachten)\n",
    "future['Weihnachten'] = weihnachtsseries"
   ]
  },
  {
   "cell_type": "markdown",
   "metadata": {},
   "source": [
    "### And predict the occupancy of the parking-space `Centrum-Galerie` with the future features"
   ]
  },
  {
   "cell_type": "code",
   "execution_count": 421,
   "metadata": {
    "collapsed": false
   },
   "outputs": [],
   "source": [
    "future['Vorhersage'] = future.apply(predictBelegung, axis=1)"
   ]
  },
  {
   "cell_type": "code",
   "execution_count": 422,
   "metadata": {
    "collapsed": true
   },
   "outputs": [],
   "source": [
    "future['Vorhersage'] = pd.rolling_mean(future['Vorhersage'], 8).shift(-4)"
   ]
  },
  {
   "cell_type": "code",
   "execution_count": null,
   "metadata": {
    "collapsed": false
   },
   "outputs": [],
   "source": []
  },
  {
   "cell_type": "code",
   "execution_count": 423,
   "metadata": {
    "collapsed": false
   },
   "outputs": [
    {
     "data": {
      "image/png": "[encoded data removed]",
      "text/plain": [
       "<matplotlib.figure.Figure at 0x10dfbe190>"
      ]
     },
     "metadata": {},
     "output_type": "display_data"
    }
   ],
   "source": [
    "plotbelegung(future, ['Vorhersage'], '2015-12-10', '2015-12-31')\n",
    "plt.savefig('%s-Belegung-Vorhersage-2015.png' % parkingspot, bbox_inches='tight', dpi=150)"
   ]
  },
  {
   "cell_type": "markdown",
   "metadata": {},
   "source": [
    "### Save as .csv"
   ]
  },
  {
   "cell_type": "code",
   "execution_count": 424,
   "metadata": {
    "collapsed": false
   },
   "outputs": [],
   "source": [
    "future.dropna(inplace=True)\n",
    "future['Vorhersage'].to_csv('%s-Belegung-Vorhersage-2015-30min.csv' % parkingspot,\n",
    "                            header=False,\n",
    "                            float_format='%i',\n",
    "                            date_format ='%Y-%m-%dT%H:%M:%S')"
   ]
  },
  {
   "cell_type": "markdown",
   "metadata": {},
   "source": [
    "### Save as sqlite Database"
   ]
  },
  {
   "cell_type": "code",
   "execution_count": 425,
   "metadata": {
    "collapsed": true
   },
   "outputs": [],
   "source": [
    "import sqlite3 as db"
   ]
  },
  {
   "cell_type": "code",
   "execution_count": 426,
   "metadata": {
    "collapsed": false
   },
   "outputs": [],
   "source": [
    "con = db.connect('./%s-Belegung-Vorhersage-2015.db' % parkingspot)\n",
    "future['Vorhersage'].to_sql('%sVorhersage2015' % parkingspot, con, if_exists='replace')"
   ]
  },
  {
   "cell_type": "markdown",
   "metadata": {},
   "source": [
    "## Save the Classifier for later use\n",
    "\n",
    "Later you can load back the pickled model (possibly in another Python process) with:\n",
    "\n",
    "`with open('classifier.pkl', 'rb') as fid:\n",
    "    classifier = pickle.load(fid)`"
   ]
  },
  {
   "cell_type": "code",
   "execution_count": 427,
   "metadata": {
    "collapsed": false
   },
   "outputs": [],
   "source": [
    "import pickle\n",
    "with open('./Classifier/DecisionTreeRegressor-%s.pkl' % parkingspot, 'wb') as fid:\n",
    "    pickle.dump(classifier, fid)  "
   ]
  },
  {
   "cell_type": "markdown",
   "metadata": {
    "collapsed": true
   },
   "source": [
    "Questions: [@Balzer82](https://twitter.com/Balzer82)"
   ]
  }
 ],
 "metadata": {
  "kernelspec": {
   "display_name": "Python 2",
   "language": "python",
   "name": "python2"
  },
  "language_info": {
   "codemirror_mode": {
    "name": "ipython",
    "version": 2
   },
   "file_extension": ".py",
   "mimetype": "text/x-python",
   "name": "python",
   "nbconvert_exporter": "python",
   "pygments_lexer": "ipython2",
   "version": "2.7.10"
  }
 },
 "nbformat": 4,
 "nbformat_minor": 0
}
